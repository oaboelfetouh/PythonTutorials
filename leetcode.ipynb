{
  "nbformat": 4,
  "nbformat_minor": 0,
  "metadata": {
    "colab": {
      "provenance": [],
      "authorship_tag": "ABX9TyPc3x6wvhZjsrIZ1//PU9ia"
    },
    "kernelspec": {
      "name": "python3",
      "display_name": "Python 3"
    },
    "language_info": {
      "name": "python"
    }
  },
  "cells": [
    {
      "cell_type": "code",
      "execution_count": null,
      "metadata": {
        "colab": {
          "base_uri": "https://localhost:8080/"
        },
        "id": "mkRVzdf_l4gl",
        "outputId": "5f14c8d5-91bf-4362-b53e-b81a9a43b37c"
      },
      "outputs": [
        {
          "output_type": "execute_result",
          "data": {
            "text/plain": [
              "[4, 2]"
            ]
          },
          "metadata": {},
          "execution_count": 9
        }
      ],
      "source": [
        "'''\n",
        "1. TwoSum\n",
        "Given an array of integers nums and an integer target, return indices of the two numbers such that they add up to target.\n",
        "You may assume that each input would have exactly one solution, and you may not use the same element twice.\n",
        "You can return the answer in any order.\n",
        "\n",
        "https://leetcode.com/problems/two-sum/\n",
        "\n",
        "'''\n",
        "nums =[1,2,3,4,5,6,7]\n",
        "target = 8\n",
        "\n",
        "def twoSum(nums, target):\n",
        "  '''\n",
        "  that's called hashmaping\n",
        "  whenever you want to find some value in an array, just use hashmap O(1)\n",
        "\n",
        "  '''\n",
        "  prevMap = {} # value : index\n",
        "\n",
        "  for i, n in enumerate(nums):\n",
        "      # enumerate(list) used with for loops returns index, value\n",
        "\n",
        "      diff = target - n\n",
        "      if diff in prevMap:\n",
        "          return [i, prevMap[diff]]\n",
        "      prevMap[n] = i\n",
        "\n",
        "twoSum(nums, target)"
      ]
    },
    {
      "cell_type": "code",
      "source": [
        "'''\n",
        "3. Longest Substring Without Repeating Characters\n",
        "Given a string s, find the length of the longest substring without repeating characters.\n",
        "\n",
        "https://leetcode.com/problems/longest-substring-without-repeating-characters/description/\n",
        "\n",
        "'''\n",
        "\n",
        "\n",
        "def lengthOfLongestSubstring(s):\n",
        "    charSet = set()\n",
        "    l = 0\n",
        "    result = 0\n",
        "    for r in range(len(s)):\n",
        "      while s[r] in charSet:\n",
        "        charSet.remove(s[r])\n",
        "        l += 1\n",
        "      charSet.add(s[r])\n",
        "      result = max(result , r - l + 1)\n",
        "    return result\n",
        "\n",
        "lengthOfLongestSubstring('pwwkew')"
      ],
      "metadata": {
        "id": "X88l-gK7mJYS",
        "colab": {
          "base_uri": "https://localhost:8080/"
        },
        "outputId": "ee4eceac-bcfc-4c4e-dca6-03c1185f7edb"
      },
      "execution_count": null,
      "outputs": [
        {
          "output_type": "execute_result",
          "data": {
            "text/plain": [
              "4"
            ]
          },
          "metadata": {},
          "execution_count": 7
        }
      ]
    },
    {
      "cell_type": "code",
      "source": [
        "'''\n",
        "4. Median of Two Sorted Arrays\n",
        "\n",
        "Given two sorted arrays nums1 and nums2 of size m and n respectively, return the median of the two sorted arrays.\n",
        "The overall run time complexity should be O(log (m+n)).\n",
        "\n",
        "https://leetcode.com/problems/median-of-two-sorted-arrays/description/\n",
        "\n",
        "'''\n",
        "nums1 = [1,2]\n",
        "nums2 = [3,4]\n",
        "def medianOfTwo(nums1, nums2):\n",
        "  i = j = 0\n",
        "  nums = list()\n",
        "  while i < len(nums1) and j < len(nums2):\n",
        "    if nums1[i] < nums2[j]:\n",
        "      nums.append(nums1[i])\n",
        "      i+=1\n",
        "    else:\n",
        "      nums.append(nums2[j])\n",
        "      j+=1\n",
        "      print(j)\n",
        "\n",
        "  while i < len(nums1):\n",
        "    nums.append(nums1[i])\n",
        "    i+= 1\n",
        "  while j < len(nums2):\n",
        "    nums.append(nums2[j])\n",
        "    j += 1\n",
        "\n",
        "  if int (len(nums)/2) == (len(nums)/2):\n",
        "\n",
        "    mid = (nums[(int (len(nums)/2))] + nums[(int (len(nums)/2)) - 1] )/ 2\n",
        "\n",
        "  else:\n",
        "    mid = nums[(int (len(nums)/2))]\n",
        "\n",
        "  return mid\n",
        "\n",
        "medianOfTwo(nums1,nums2)"
      ],
      "metadata": {
        "id": "roWG_YVyCvR_",
        "colab": {
          "base_uri": "https://localhost:8080/"
        },
        "outputId": "815e983c-aa7f-4511-a1dd-6264bbb2df76"
      },
      "execution_count": 24,
      "outputs": [
        {
          "output_type": "execute_result",
          "data": {
            "text/plain": [
              "2.5"
            ]
          },
          "metadata": {},
          "execution_count": 24
        }
      ]
    },
    {
      "cell_type": "code",
      "source": [],
      "metadata": {
        "id": "wBan-cJIR3Om"
      },
      "execution_count": null,
      "outputs": []
    }
  ]
}